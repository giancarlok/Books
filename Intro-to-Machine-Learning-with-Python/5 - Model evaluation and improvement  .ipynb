{
 "cells": [
  {
   "cell_type": "code",
   "execution_count": 130,
   "metadata": {
    "collapsed": false
   },
   "outputs": [],
   "source": [
    "import pandas as pd\n",
    "import sklearn \n",
    "import scipy\n",
    "import matplotlib\n",
    "import numpy as np\n",
    "import matplotlib.pyplot as plt\n",
    "%matplotlib inline\n",
    "from sklearn.datasets import load_boston, make_blobs, load_iris, load_digits \n",
    "from sklearn.cross_validation import train_test_split, cross_val_score, KFold, StratifiedKFold, LeaveOneOut, ShuffleSplit, LabelKFold, StratifiedShuffleSplit\n",
    "from sklearn.svm import SVC\n",
    "from sklearn.linear_model import LogisticRegression, Ridge\n",
    "from sklearn.grid_search import GridSearchCV, ParameterGrid\n",
    "from sklearn.dummy import DummyClassifier\n",
    "from sklearn.tree import DecisionTreeClassifier\n",
    "from sklearn.metrics import f1_score, classification_report, precision_recall_curve, roc_curve, roc_auc_score, accuracy_score\n",
    "from sklearn.metrics.scorer import SCORERS\n",
    "from sklearn.ensemble import RandomForestClassifier \n",
    "import seaborn as sns"
   ]
  },
  {
   "cell_type": "code",
   "execution_count": 131,
   "metadata": {
    "collapsed": false
   },
   "outputs": [
    {
     "data": {
      "text/plain": [
       "0.88"
      ]
     },
     "execution_count": 131,
     "metadata": {},
     "output_type": "execute_result"
    }
   ],
   "source": [
    "X,y = make_blobs(random_state=0)\n",
    "X_train,X_test,y_train, y_test = train_test_split(X,y, random_state=0)\n",
    "logreg = LogisticRegression().fit(X_train,y_train)\n",
    "logreg.score(X_test,y_test)"
   ]
  },
  {
   "cell_type": "markdown",
   "metadata": {},
   "source": [
    "# Cross-validation "
   ]
  },
  {
   "cell_type": "code",
   "execution_count": 132,
   "metadata": {
    "collapsed": false
   },
   "outputs": [
    {
     "name": "stdout",
     "output_type": "stream",
     "text": [
      "cross-validation scores: [ 1.          1.          1.          1.          0.91666667  0.88888889\n",
      "  1.          1.          0.88888889  0.77777778  0.88888889  1.          1.\n",
      "  1.          1.        ]\n"
     ]
    }
   ],
   "source": [
    "# lets use cross-validation instead of a simple split\n",
    "iris = load_iris()\n",
    "logreg = LogisticRegression()\n",
    "kfold = 15\n",
    "scores = cross_val_score(logreg, iris.data, iris.target, cv=kfold) # uses 3 folds by default \n",
    "print(\"cross-validation scores:\", scores)"
   ]
  },
  {
   "cell_type": "code",
   "execution_count": 133,
   "metadata": {
    "collapsed": false
   },
   "outputs": [
    {
     "name": "stdout",
     "output_type": "stream",
     "text": [
      "0.957407407407 0.066408966952\n"
     ]
    }
   ],
   "source": [
    "print(scores.mean(),scores.std())"
   ]
  },
  {
   "cell_type": "markdown",
   "metadata": {},
   "source": [
    "## Stratified K-Fold cross-validation and other strategies"
   ]
  },
  {
   "cell_type": "code",
   "execution_count": 134,
   "metadata": {
    "collapsed": false
   },
   "outputs": [
    {
     "name": "stdout",
     "output_type": "stream",
     "text": [
      "[0 0 0 0 0 0 0 0 0 0 0 0 0 0 0 0 0 0 0 0 0 0 0 0 0 0 0 0 0 0 0 0 0 0 0 0 0\n",
      " 0 0 0 0 0 0 0 0 0 0 0 0 0 1 1 1 1 1 1 1 1 1 1 1 1 1 1 1 1 1 1 1 1 1 1 1 1\n",
      " 1 1 1 1 1 1 1 1 1 1 1 1 1 1 1 1 1 1 1 1 1 1 1 1 1 1 2 2 2 2 2 2 2 2 2 2 2\n",
      " 2 2 2 2 2 2 2 2 2 2 2 2 2 2 2 2 2 2 2 2 2 2 2 2 2 2 2 2 2 2 2 2 2 2 2 2 2\n",
      " 2 2]\n"
     ]
    }
   ],
   "source": [
    "# relatively high variance in accuracy\n",
    "# provides information about how sensitive model is to selection of training dataset\n",
    "# the purpose of cross-validation is how well a given algorithm will generalize when trained on a specific dataset\n",
    "print(iris.target)"
   ]
  },
  {
   "cell_type": "markdown",
   "metadata": {},
   "source": [
    "## More control over cross-validation "
   ]
  },
  {
   "cell_type": "code",
   "execution_count": 135,
   "metadata": {
    "collapsed": false
   },
   "outputs": [],
   "source": [
    "kfold = KFold(len(iris.data),n_folds= 3) \n",
    "# what is the difference between using KFold and just setting it into crass_val_score= (...cv= ...) ?"
   ]
  },
  {
   "cell_type": "code",
   "execution_count": 136,
   "metadata": {
    "collapsed": false
   },
   "outputs": [
    {
     "data": {
      "text/plain": [
       "array([ 0.,  0.,  0.])"
      ]
     },
     "execution_count": 136,
     "metadata": {},
     "output_type": "execute_result"
    }
   ],
   "source": [
    "cross_val_score(logreg,iris.data,iris.target, cv= kfold) \n",
    "#without shuffling "
   ]
  },
  {
   "cell_type": "code",
   "execution_count": 137,
   "metadata": {
    "collapsed": false
   },
   "outputs": [
    {
     "data": {
      "text/plain": [
       "array([ 0.9 ,  0.96,  0.96])"
      ]
     },
     "execution_count": 137,
     "metadata": {},
     "output_type": "execute_result"
    }
   ],
   "source": [
    "kfold = KFold(len(iris.data),shuffle = True, random_state=0, n_folds= 3)\n",
    "cross_val_score(logreg,iris.data,iris.target, cv= kfold)\n",
    "#with shuffling "
   ]
  },
  {
   "cell_type": "code",
   "execution_count": 138,
   "metadata": {
    "collapsed": false
   },
   "outputs": [
    {
     "name": "stdout",
     "output_type": "stream",
     "text": [
      "0.957407407407 0.066408966952\n"
     ]
    }
   ],
   "source": [
    "kfold = KFold(len(iris.data),shuffle = True, random_state=0, n_folds= 15)\n",
    "cross_val_score(logreg,iris.data,iris.target, cv= kfold)\n",
    "print(scores.mean(),scores.std())"
   ]
  },
  {
   "cell_type": "markdown",
   "metadata": {},
   "source": [
    "## Leave-One-Out cross-validation "
   ]
  },
  {
   "cell_type": "code",
   "execution_count": 139,
   "metadata": {
    "collapsed": false
   },
   "outputs": [
    {
     "name": "stdout",
     "output_type": "stream",
     "text": [
      "number of cv iterations:  150\n",
      "number of elements in data set: 150\n",
      "mean accuracy: 0.9533\n"
     ]
    }
   ],
   "source": [
    "\n",
    "# very time consuming on large datatsets\n",
    "# sometimes provides better estimates\n",
    "loo = LeaveOneOut(len(iris.data))\n",
    "scores = cross_val_score(logreg, iris.data, iris.target, cv =loo)\n",
    "print(\"number of cv iterations: \", len(scores))\n",
    "print(\"number of elements in data set:\", len(iris.data))\n",
    "print(\"mean accuracy: %.4f\" % scores.mean())"
   ]
  },
  {
   "cell_type": "markdown",
   "metadata": {},
   "source": [
    "## Shuffle-Split cross-validation"
   ]
  },
  {
   "cell_type": "code",
   "execution_count": 140,
   "metadata": {
    "collapsed": false
   },
   "outputs": [],
   "source": [
    "# Shuffle-Split cross-validation \n",
    "shuffle_split = ShuffleSplit(len(iris.target), test_size=.5, train_size=.5,n_iter=15)\n",
    "scores= cross_val_score(logreg, iris.data,iris.target, cv=shuffle_split)"
   ]
  },
  {
   "cell_type": "code",
   "execution_count": 141,
   "metadata": {
    "collapsed": false
   },
   "outputs": [
    {
     "name": "stdout",
     "output_type": "stream",
     "text": [
      "0.92 0.0432734629143\n"
     ]
    }
   ],
   "source": [
    "print(scores.mean(),scores.std()) #seems to perform less good than shuffled KFold with the same number splits"
   ]
  },
  {
   "cell_type": "code",
   "execution_count": 142,
   "metadata": {
    "collapsed": false
   },
   "outputs": [
    {
     "name": "stdout",
     "output_type": "stream",
     "text": [
      "0.925333333333 0.0638145461184\n"
     ]
    }
   ],
   "source": [
    "# there is also a variant called \"StratifiedShuffleSplit\"\n",
    "# can provide more reliable tasks for classification tasks\n",
    "stratified_shuffle_split = StratifiedShuffleSplit(iris.target, test_size=.5, train_size=.5,n_iter=15)\n",
    "scores= cross_val_score(logreg, iris.data,iris.target, cv=shuffle_split)\n",
    "print(scores.mean(),scores.std())"
   ]
  },
  {
   "cell_type": "markdown",
   "metadata": {},
   "source": [
    "## Cross-validation with groups"
   ]
  },
  {
   "cell_type": "code",
   "execution_count": 143,
   "metadata": {
    "collapsed": false
   },
   "outputs": [
    {
     "name": "stdout",
     "output_type": "stream",
     "text": [
      "[ 0.75        0.8         0.66666667]\n"
     ]
    }
   ],
   "source": [
    "# when there are groups in the data that are highly related\n",
    "# elements of the same group cannot be in test and training set simultaneously\n",
    "# LabelKFold does the job\n",
    "# Label here should not be confused with class label\n",
    "# label here indicates groups in the data that should not be split when creating test and training sets \n",
    "X,y = make_blobs(n_samples= 12, random_state=0)\n",
    "labels = [0,0,0,1,1,1,1,2,2,3,3,3]\n",
    "scores = cross_val_score(logreg, X,y, cv=LabelKFold(labels,n_folds=3)) \n",
    "# number of folds cannot be greater than 4 (the number of labels)\n",
    "# is there a better way to deal with labels (instead of putting it by hand)\n",
    "print(scores)"
   ]
  },
  {
   "cell_type": "code",
   "execution_count": 144,
   "metadata": {
    "collapsed": false
   },
   "outputs": [
    {
     "name": "stdout",
     "output_type": "stream",
     "text": [
      "0.738888888889 0.0549971940923\n"
     ]
    }
   ],
   "source": [
    "print(scores.mean(),scores.std())"
   ]
  },
  {
   "cell_type": "markdown",
   "metadata": {},
   "source": [
    "# Grid-Search"
   ]
  },
  {
   "cell_type": "markdown",
   "metadata": {},
   "source": [
    "## Simple Grid- Search "
   ]
  },
  {
   "cell_type": "code",
   "execution_count": 145,
   "metadata": {
    "collapsed": false
   },
   "outputs": [
    {
     "name": "stdout",
     "output_type": "stream",
     "text": [
      "Size of the training set: 112  size of the test set: 38\n",
      "best score %.2f 0.973684210526\n",
      "best parameters:  {'gamma': 0.001, 'C': 100}\n"
     ]
    }
   ],
   "source": [
    "X_train,X_test,y_train, y_test = train_test_split(iris.data,iris.target, random_state=0)\n",
    "print(\"Size of the training set: %d  size of the test set: %d\" % (X_train.shape[0],X_test.shape[0]))\n",
    "# what is this shape[0] doing ??\n",
    "best_score=0\n",
    "for gamma in [0.001, 0.01, 0.1, 1, 10, 100]:\n",
    "    for C in [0.001, 0.01, 0.1, 1, 10, 100]:\n",
    "        svm=SVC(gamma=gamma, C=C)\n",
    "        svm.fit(X_train, y_train)\n",
    "        score = svm.score(X_test,y_test)\n",
    "        if score > best_score:\n",
    "            best_score = score\n",
    "            best_parameters = {'C':C ,'gamma':gamma}\n",
    "print(\"best score %.2f\", best_score)\n",
    "print(\"best parameters: \", best_parameters)\n",
    "            \n",
    "# so far we just used a simple test training split            \n",
    "# recall: {} initiates a dictionary, while [] initiates a list "
   ]
  },
  {
   "cell_type": "markdown",
   "metadata": {},
   "source": [
    "## The danger of overfitting the parameters and the validation set "
   ]
  },
  {
   "cell_type": "code",
   "execution_count": 146,
   "metadata": {
    "collapsed": false
   },
   "outputs": [
    {
     "name": "stdout",
     "output_type": "stream",
     "text": [
      "Size of the training set: 84,  size of the validation set: 28, size of the test set: 38\n",
      "best score on validation set: 0.96\n",
      "best parameters:  {'gamma': 0.001, 'C': 10}\n",
      "test set score with best parameters: 0.92\n"
     ]
    }
   ],
   "source": [
    "# ATTENTION: don't get tempted to think that 0.9736 is our real accuracy\n",
    "# it's overly optimistic because we used the test set multiple times to get those good parameters\n",
    "# we need a third \"untouched\" dataset to evaluate the model.\n",
    "# we now take an \"evaluation set\" for parameters and \"test set\" that we dont touch, for evaluation\n",
    "\n",
    "X_trainval,X_test, y_trainval, y_test = train_test_split(iris.data,iris.target, random_state=0)\n",
    "X_train, X_valid, y_train, y_valid = train_test_split(X_trainval,y_trainval, random_state=1)\n",
    "#ATTENTION random_state=1 !!\n",
    "print(\"Size of the training set: %d,  size of the validation set: %d, size of the test set: %d\" % (X_train.shape[0],X_valid.shape[0],X_test.shape[0]))\n",
    "best_score=0\n",
    "for gamma in [0.001, 0.01, 0.1, 1, 10, 100]:\n",
    "    for C in [0.001, 0.01, 0.1, 1, 10, 100]:\n",
    "        svm=SVC(gamma=gamma, C=C)\n",
    "        svm.fit(X_train, y_train)\n",
    "        score = svm.score(X_valid,y_valid)\n",
    "        if score > best_score:\n",
    "            best_score = score\n",
    "            best_parameters = {'C':C ,'gamma':gamma}\n",
    "\n",
    "#rebuilding the whole model with good parameters\n",
    "svm = SVC(**best_parameters)\n",
    "svm.fit(X_trainval,y_trainval)\n",
    "test_score = svm.score(X_test,y_test)\n",
    "print(\"best score on validation set: %.2f\" % best_score)\n",
    "print(\"best parameters: \", best_parameters)\n",
    "print(\"test set score with best parameters: %.2f\" % test_score)\n",
    "\n",
    "# we see that test score performance with good parameters is worse than previous score by not having separate evaluation set\n"
   ]
  },
  {
   "cell_type": "markdown",
   "metadata": {},
   "source": [
    "## Grid-Search with cross-validation "
   ]
  },
  {
   "cell_type": "code",
   "execution_count": 147,
   "metadata": {
    "collapsed": false
   },
   "outputs": [
    {
     "name": "stdout",
     "output_type": "stream",
     "text": [
      "test score with best parameters using cv is: 0.978\n",
      "with parameters: {'gamma': 0.01, 'C': 100}\n"
     ]
    }
   ],
   "source": [
    "# Grid-Search with cross-validation \n",
    "# remember all the above splitting was done in a simple split, no cross-validation \n",
    "# this will give even a better split of the acutal performance\n",
    "best_score=0\n",
    "for gamma in [0.001, 0.01, 0.1, 1, 10, 100]:\n",
    "    for C in [0.001, 0.01, 0.1, 1, 10, 100]:\n",
    "        svm=SVC(gamma=gamma, C=C)\n",
    "        scores = cross_val_score(svm, X_trainval,y_trainval, cv =15)\n",
    "        score = np.mean(scores)\n",
    "        if score > best_score:\n",
    "            best_score = score\n",
    "            best_parameters = {'C':C ,'gamma':gamma}\n",
    "            \n",
    "svm = SVC(**best_parameters)\n",
    "svm.fit(X_trainval,y_trainval)\n",
    "print(\"test score with best parameters using cv is: %.3f\" %best_score)\n",
    "print(\"with parameters:\" , best_parameters)"
   ]
  },
  {
   "cell_type": "code",
   "execution_count": 148,
   "metadata": {
    "collapsed": false
   },
   "outputs": [],
   "source": [
    "# Lets use GridSearchCV\n",
    "param_grid = {'C': [0.001, 0.01, 0.1, 1, 10, 100],'gamma': [0.001, 0.01, 0.1, 1, 10, 100]}\n",
    "grid_search = GridSearchCV(SVC(),param_grid,cv=5) "
   ]
  },
  {
   "cell_type": "code",
   "execution_count": 149,
   "metadata": {
    "collapsed": false
   },
   "outputs": [
    {
     "data": {
      "text/plain": [
       "GridSearchCV(cv=5, error_score='raise',\n",
       "       estimator=SVC(C=1.0, cache_size=200, class_weight=None, coef0=0.0,\n",
       "  decision_function_shape=None, degree=3, gamma='auto', kernel='rbf',\n",
       "  max_iter=-1, probability=False, random_state=None, shrinking=True,\n",
       "  tol=0.001, verbose=False),\n",
       "       fit_params={}, iid=True, n_jobs=1,\n",
       "       param_grid={'gamma': [0.001, 0.01, 0.1, 1, 10, 100], 'C': [0.001, 0.01, 0.1, 1, 10, 100]},\n",
       "       pre_dispatch='2*n_jobs', refit=True, scoring=None, verbose=0)"
      ]
     },
     "execution_count": 149,
     "metadata": {},
     "output_type": "execute_result"
    }
   ],
   "source": [
    "X_train, X_test, y_train, y_test = train_test_split(iris.data,iris.target, random_state=10) \n",
    "grid_search.fit(X_train,y_train)\n",
    "# no need to programm the validation set ourselves as before"
   ]
  },
  {
   "cell_type": "code",
   "execution_count": 150,
   "metadata": {
    "collapsed": false
   },
   "outputs": [
    {
     "name": "stdout",
     "output_type": "stream",
     "text": [
      "test set score: 0.97\n",
      "Best cross-validation score: 0.98\n",
      "Best parameters:  {'gamma': 0.1, 'C': 10}\n"
     ]
    }
   ],
   "source": [
    "print(\"test set score: %.2f\" % grid_search.score(X_test,y_test))\n",
    "print(\"Best cross-validation score: %.2f\" %grid_search.best_score_)\n",
    "# the latter attributes the mean cross-validation score\n",
    "print(\"Best parameters: \", grid_search.best_params_)"
   ]
  },
  {
   "cell_type": "markdown",
   "metadata": {},
   "source": [
    "## Analyzing the result of cross-validation "
   ]
  },
  {
   "cell_type": "code",
   "execution_count": 151,
   "metadata": {
    "collapsed": false
   },
   "outputs": [
    {
     "data": {
      "text/html": [
       "<div>\n",
       "<table border=\"1\" class=\"dataframe\">\n",
       "  <thead>\n",
       "    <tr style=\"text-align: right;\">\n",
       "      <th></th>\n",
       "      <th>parameters</th>\n",
       "      <th>mean_validation_score</th>\n",
       "      <th>cv_validation_scores</th>\n",
       "    </tr>\n",
       "  </thead>\n",
       "  <tbody>\n",
       "    <tr>\n",
       "      <th>0</th>\n",
       "      <td>{'gamma': 0.001, 'C': 0.001}</td>\n",
       "      <td>0.410714</td>\n",
       "      <td>[0.347826086957, 0.347826086957, 0.34782608695...</td>\n",
       "    </tr>\n",
       "    <tr>\n",
       "      <th>1</th>\n",
       "      <td>{'gamma': 0.01, 'C': 0.001}</td>\n",
       "      <td>0.410714</td>\n",
       "      <td>[0.347826086957, 0.347826086957, 0.34782608695...</td>\n",
       "    </tr>\n",
       "    <tr>\n",
       "      <th>2</th>\n",
       "      <td>{'gamma': 0.1, 'C': 0.001}</td>\n",
       "      <td>0.410714</td>\n",
       "      <td>[0.347826086957, 0.347826086957, 0.34782608695...</td>\n",
       "    </tr>\n",
       "    <tr>\n",
       "      <th>3</th>\n",
       "      <td>{'gamma': 1, 'C': 0.001}</td>\n",
       "      <td>0.410714</td>\n",
       "      <td>[0.347826086957, 0.347826086957, 0.34782608695...</td>\n",
       "    </tr>\n",
       "    <tr>\n",
       "      <th>4</th>\n",
       "      <td>{'gamma': 10, 'C': 0.001}</td>\n",
       "      <td>0.383929</td>\n",
       "      <td>[0.347826086957, 0.347826086957, 0.34782608695...</td>\n",
       "    </tr>\n",
       "    <tr>\n",
       "      <th>5</th>\n",
       "      <td>{'gamma': 100, 'C': 0.001}</td>\n",
       "      <td>0.339286</td>\n",
       "      <td>[0.347826086957, 0.347826086957, 0.34782608695...</td>\n",
       "    </tr>\n",
       "    <tr>\n",
       "      <th>6</th>\n",
       "      <td>{'gamma': 0.001, 'C': 0.01}</td>\n",
       "      <td>0.410714</td>\n",
       "      <td>[0.347826086957, 0.347826086957, 0.34782608695...</td>\n",
       "    </tr>\n",
       "    <tr>\n",
       "      <th>7</th>\n",
       "      <td>{'gamma': 0.01, 'C': 0.01}</td>\n",
       "      <td>0.410714</td>\n",
       "      <td>[0.347826086957, 0.347826086957, 0.34782608695...</td>\n",
       "    </tr>\n",
       "    <tr>\n",
       "      <th>8</th>\n",
       "      <td>{'gamma': 0.1, 'C': 0.01}</td>\n",
       "      <td>0.410714</td>\n",
       "      <td>[0.347826086957, 0.347826086957, 0.34782608695...</td>\n",
       "    </tr>\n",
       "    <tr>\n",
       "      <th>9</th>\n",
       "      <td>{'gamma': 1, 'C': 0.01}</td>\n",
       "      <td>0.410714</td>\n",
       "      <td>[0.347826086957, 0.347826086957, 0.34782608695...</td>\n",
       "    </tr>\n",
       "  </tbody>\n",
       "</table>\n",
       "</div>"
      ],
      "text/plain": [
       "                     parameters  mean_validation_score  \\\n",
       "0  {'gamma': 0.001, 'C': 0.001}               0.410714   \n",
       "1   {'gamma': 0.01, 'C': 0.001}               0.410714   \n",
       "2    {'gamma': 0.1, 'C': 0.001}               0.410714   \n",
       "3      {'gamma': 1, 'C': 0.001}               0.410714   \n",
       "4     {'gamma': 10, 'C': 0.001}               0.383929   \n",
       "5    {'gamma': 100, 'C': 0.001}               0.339286   \n",
       "6   {'gamma': 0.001, 'C': 0.01}               0.410714   \n",
       "7    {'gamma': 0.01, 'C': 0.01}               0.410714   \n",
       "8     {'gamma': 0.1, 'C': 0.01}               0.410714   \n",
       "9       {'gamma': 1, 'C': 0.01}               0.410714   \n",
       "\n",
       "                                cv_validation_scores  \n",
       "0  [0.347826086957, 0.347826086957, 0.34782608695...  \n",
       "1  [0.347826086957, 0.347826086957, 0.34782608695...  \n",
       "2  [0.347826086957, 0.347826086957, 0.34782608695...  \n",
       "3  [0.347826086957, 0.347826086957, 0.34782608695...  \n",
       "4  [0.347826086957, 0.347826086957, 0.34782608695...  \n",
       "5  [0.347826086957, 0.347826086957, 0.34782608695...  \n",
       "6  [0.347826086957, 0.347826086957, 0.34782608695...  \n",
       "7  [0.347826086957, 0.347826086957, 0.34782608695...  \n",
       "8  [0.347826086957, 0.347826086957, 0.34782608695...  \n",
       "9  [0.347826086957, 0.347826086957, 0.34782608695...  "
      ]
     },
     "execution_count": 151,
     "metadata": {},
     "output_type": "execute_result"
    }
   ],
   "source": [
    "results = pd.DataFrame(grid_search.grid_scores_)\n",
    "results.head(10)\n",
    "# really strange result, by changing random_state = 10, we get completely different result\n",
    "# also, it doesn't have attribute test_mean_score"
   ]
  },
  {
   "cell_type": "code",
   "execution_count": 152,
   "metadata": {
    "collapsed": false
   },
   "outputs": [],
   "source": [
    "scores = np.array(results.mean_validation_score).reshape(6,6)"
   ]
  },
  {
   "cell_type": "code",
   "execution_count": 153,
   "metadata": {
    "collapsed": false
   },
   "outputs": [
    {
     "data": {
      "text/plain": [
       "<matplotlib.axes._subplots.AxesSubplot at 0x11bd24940>"
      ]
     },
     "execution_count": 153,
     "metadata": {},
     "output_type": "execute_result"
    },
    {
     "data": {
      "image/png": "[encoded data removed]",
      "text/plain": [
       "<matplotlib.figure.Figure at 0x11d3e7d30>"
      ]
     },
     "metadata": {},
     "output_type": "display_data"
    }
   ],
   "source": [
    "sns.heatmap(scores,xticklabels=param_grid['gamma'], yticklabels=param_grid['C'], cmap=\"viridis\", annot=True, linewidths=.5)"
   ]
  },
  {
   "cell_type": "code",
   "execution_count": 154,
   "metadata": {
    "collapsed": false
   },
   "outputs": [
    {
     "name": "stdout",
     "output_type": "stream",
     "text": [
      "gridsearch_failures\n"
     ]
    },
    {
     "data": {
      "image/png": "[encoded data removed]",
      "text/plain": [
       "<matplotlib.figure.Figure at 0x11b3c8e48>"
      ]
     },
     "metadata": {},
     "output_type": "display_data"
    }
   ],
   "source": [
    "# we see that SVC is very sensitive to parameters \n",
    "# the range is actually big enough: the optima are not on the edge of the plot.\n",
    "\n",
    "fig, axes = plt.subplots(1,3, figsize=(13,5))\n",
    "param_grid_linear = {'C': np.linspace(1,2,6),'gamma': np.linspace(1,2,6)}\n",
    "param_grid_one_log = {'C': np.linspace(1,2,6),'gamma': np.logspace(-3,2,6)}\n",
    "param_grid_range = {'C': np.logspace(-3,2,6),'gamma': np.logspace(-7,-2,6)}\n",
    "\n",
    "#np.linspace(start,end, number of points in between)\n",
    "#np.logspace(start,end,num) starts at 10**start and stops at 10**end with num points in between\n",
    "\n",
    "for param_grid, ax in zip([param_grid_linear, param_grid_one_log, param_grid_range], axes):\n",
    "    # zip('ABCD', 'xy') --> Ax By\n",
    "    grid_search = GridSearchCV(SVC(),param_grid,cv=5)\n",
    "    grid_search.fit(X_train,y_train)\n",
    "    scores = pd.DataFrame(grid_search.grid_scores_)['mean_validation_score'].reshape(6,6)\n",
    "    # why reshape ??\n",
    "    scores_image = sns.heatmap(scores, xticklabels=param_grid['gamma'], yticklabels=param_grid['C'], square=True, cmap= \"viridis\", ax=ax, annot=True, linewidths=.5)\n",
    "print(\"gridsearch_failures\")"
   ]
  },
  {
   "cell_type": "code",
   "execution_count": 155,
   "metadata": {
    "collapsed": true
   },
   "outputs": [],
   "source": [
    "# first panel shows no major changes: either the choices of C, gamma dont matter or we just chose wrong scale\n",
    "# second panel shows vertical stripe: gamma makes a difference, but C not sure\n",
    "# third panel: C,gamma both make a difference"
   ]
  },
  {
   "cell_type": "markdown",
   "metadata": {},
   "source": [
    "## Using different cross-validation strategies with grid-search"
   ]
  },
  {
   "cell_type": "markdown",
   "metadata": {},
   "source": [
    "we can use `ShuffleSplit`, or `StratifiedShuffleSplit` with `n_iter =1` in case of very large datasets or slow models."
   ]
  },
  {
   "cell_type": "markdown",
   "metadata": {},
   "source": [
    "## Nested Cross-validation"
   ]
  },
  {
   "cell_type": "markdown",
   "metadata": {},
   "source": [
    "is usually not used for parameter selection but rather to see how well a given model generalizes"
   ]
  },
  {
   "cell_type": "code",
   "execution_count": 157,
   "metadata": {
    "collapsed": false
   },
   "outputs": [
    {
     "name": "stdout",
     "output_type": "stream",
     "text": [
      "cross-validation scores:  [ 1.          0.91666667  1.          1.          1.          0.77777778\n",
      "  1.          0.88888889  1.          0.88888889  1.          1.          1.\n",
      "  1.          1.        ]\n",
      "Mean cross-validation score:  0.964814814815\n",
      "Std cross-validation score:  0.064523153297\n"
     ]
    }
   ],
   "source": [
    "\n",
    "scores = cross_val_score(GridSearchCV(SVC(),param_grid, cv=5),iris.data,iris.target, cv=15)\n",
    "print(\"cross-validation scores: \", scores)\n",
    "print(\"Mean cross-validation score: \", scores.mean())\n",
    "print(\"Std cross-validation score: \", scores.std())"
   ]
  },
  {
   "cell_type": "code",
   "execution_count": 158,
   "metadata": {
    "collapsed": false
   },
   "outputs": [],
   "source": [
    "def nested_cv(X,y,inner_cv,outer_cv, Classifier, parameter_grid):\n",
    "    outer_scores=[]\n",
    "    for training_samples, test_samples in outer_cv(X,y):\n",
    "        # find best parameters using inner cross-validation:\n",
    "        best_parms = {}\n",
    "        best_score = -np.inf\n",
    "        # iterating over parameters\n",
    "        for parameters in parameter_grid:\n",
    "            cv_scores = []\n",
    "            for inner_train, inner_test in inner_cv(X[training_samples],y[training_samples]):\n",
    "                clf = Classifier(**parameters)\n",
    "                clf.fit(X[inner_train],y[inner_train])\n",
    "                score = clf.score(X[inner_test],y[inner_test])\n",
    "                cv_scores.append(score)\n",
    "            mean_score = np.mean(cv_scores)\n",
    "            if mean_score > best_score:\n",
    "                best_parms = parameters\n",
    "                best_score = mean_score\n",
    "        clf = Classifier(**best_parms)\n",
    "        clf.fit(X[training_samples],y[training_samples])\n",
    "        outer_scores.append(clf.score(X[test_samples],y[test_samples]))\n",
    "    return np.array(outer_scores)\n",
    "\n",
    "            \n",
    "# couldn't find .split online. Should be obvious what it is though\n"
   ]
  },
  {
   "cell_type": "code",
   "execution_count": 160,
   "metadata": {
    "collapsed": false
   },
   "outputs": [],
   "source": [
    "# issue: nested_cv(iris.data,iris.target,StratifiedKFold(iris.target,5),StratifiedKFold(iris.target,5),SVC,ParameterGrid(param_grid))\n",
    "# param_grid = {'a': [1, 2], 'b': [True, False]} \n",
    "# list(ParameterGrid(param_grid)) ->([{'a': 1, 'b': True}, {'a': 1, 'b': False}, {'a': 2, 'b': True}, {'a': 2, 'b': False}])\n"
   ]
  },
  {
   "cell_type": "markdown",
   "metadata": {},
   "source": [
    "# Evaluation metrics and scoring "
   ]
  },
  {
   "cell_type": "markdown",
   "metadata": {},
   "source": [
    "## Imbalanced datasets "
   ]
  },
  {
   "cell_type": "markdown",
   "metadata": {},
   "source": [
    "Datasets in which one class is much more frequent than the other are called _imbalanced dataset_. The main idea is that in such datasets the accuracy score of machine learning algorithm is not very informative about the actual predictive performance. Let us look at an example to highlight how little informative such an accuracy score can be."
   ]
  },
  {
   "cell_type": "code",
   "execution_count": 162,
   "metadata": {
    "collapsed": false
   },
   "outputs": [
    {
     "name": "stdout",
     "output_type": "stream",
     "text": [
      "Unique predicted labels: [False]\n",
      "Test score: 0.90\n"
     ]
    }
   ],
   "source": [
    "digits = load_digits()\n",
    "y = digits.target == 9\n",
    "X_train, X_test, y_train, y_test = train_test_split(digits.data,y, random_state=0)\n",
    "dummy_majority = DummyClassifier(strategy='most_frequent').fit(X_train,y_train) # just predicts whichever digit is most frequent\n",
    "pred_most_frequent = dummy_majority.predict(X_test)\n",
    "print(\"Unique predicted labels: %s\" %np.unique(pred_most_frequent))\n",
    "print(\"Test score: %.2f\" % dummy_majority.score(X_test,y_test))"
   ]
  },
  {
   "cell_type": "markdown",
   "metadata": {},
   "source": [
    "We clearly didn't learn anything, while the so-called accuracy is 90%. Let us compare this with an actual classifier"
   ]
  },
  {
   "cell_type": "code",
   "execution_count": 163,
   "metadata": {
    "collapsed": false
   },
   "outputs": [
    {
     "name": "stdout",
     "output_type": "stream",
     "text": [
      "Test score: 0.92\n"
     ]
    }
   ],
   "source": [
    "tree = DecisionTreeClassifier(max_depth=2).fit(X_train,y_train)\n",
    "pred_tree = tree.predict(X_test)\n",
    "print(\"Test score: %.2f\" %tree.score(X_test,y_test))"
   ]
  },
  {
   "cell_type": "markdown",
   "metadata": {},
   "source": [
    "It seems like our Decision Tree is only slightly better than the constant predictor, so something is clearly wrong. Let us compare two more classifiers."
   ]
  },
  {
   "cell_type": "code",
   "execution_count": 165,
   "metadata": {
    "collapsed": false
   },
   "outputs": [
    {
     "name": "stdout",
     "output_type": "stream",
     "text": [
      "dummy score: 0.83\n",
      "logreg score: 0.98\n"
     ]
    }
   ],
   "source": [
    "dummy = DummyClassifier().fit(X_train,y_train) # just predicts random predictions\n",
    "pred_dummy = dummy.predict(X_test)\n",
    "print(\"dummy score: %.2f\" % dummy.score(X_test,y_test))\n",
    "\n",
    "logreg = LogisticRegression(C=0.1).fit(X_train,y_train)\n",
    "pred_logreg = logreg.predict(X_test)\n",
    "print(\"logreg score: %.2f\" % logreg.score(X_test,y_test))"
   ]
  },
  {
   "cell_type": "markdown",
   "metadata": {},
   "source": [
    "In order to better judge which predcitors are good, we need different metrics.  "
   ]
  },
  {
   "cell_type": "markdown",
   "metadata": {},
   "source": [
    "## Confusion Matrices"
   ]
  },
  {
   "cell_type": "markdown",
   "metadata": {},
   "source": [
    "One such example is _confusion matrices_ "
   ]
  },
  {
   "cell_type": "code",
   "execution_count": 167,
   "metadata": {
    "collapsed": false
   },
   "outputs": [
    {
     "name": "stdout",
     "output_type": "stream",
     "text": [
      "[[401   2]\n",
      " [  8  39]]\n"
     ]
    }
   ],
   "source": [
    "from sklearn.metrics import confusion_matrix \n",
    "confusion = confusion_matrix(y_test,pred_logreg)\n",
    "print(confusion)"
   ]
  },
  {
   "cell_type": "code",
   "execution_count": 168,
   "metadata": {
    "collapsed": false
   },
   "outputs": [
    {
     "name": "stdout",
     "output_type": "stream",
     "text": [
      "'Most frequent class' predictor:\n",
      "[[403   0]\n",
      " [ 47   0]]\n",
      "\n",
      " Dummy model:\n",
      "[[356  47]\n",
      " [ 42   5]]\n",
      "\n",
      " Decision Tree:\n",
      "[[390  13]\n",
      " [ 24  23]]\n",
      "\n",
      " Logistic Regression:\n",
      "[[401   2]\n",
      " [  8  39]]\n"
     ]
    }
   ],
   "source": [
    "print(\"'Most frequent class' predictor:\")\n",
    "print(confusion_matrix(y_test,pred_most_frequent))\n",
    "print(\"\\n Dummy model:\")\n",
    "print(confusion_matrix(y_test,pred_dummy))\n",
    "print(\"\\n Decision Tree:\")\n",
    "print(confusion_matrix(y_test,pred_tree))\n",
    "print(\"\\n Logistic Regression:\")\n",
    "print(confusion_matrix(y_test,pred_logreg))"
   ]
  },
  {
   "cell_type": "markdown",
   "metadata": {},
   "source": [
    "it is kinda like this:`[[TN, FP],[FN, TP]]` "
   ]
  },
  {
   "cell_type": "markdown",
   "metadata": {},
   "source": [
    "Accuracy = $\\displaystyle \\frac{TP+TN}{TP+TN+FP+FN}$"
   ]
  },
  {
   "cell_type": "markdown",
   "metadata": {},
   "source": [
    "Precision = $\\displaystyle \\frac{TP}{TP+FP}$. \"how many of those predicted positive are actually positive\". used when goal is to limit FP. **Example**: drug for curing disease"
   ]
  },
  {
   "cell_type": "markdown",
   "metadata": {},
   "source": [
    "Recall = $\\displaystyle\\frac{TP}{TP+FN}$. (also called _Sensitivity_) used when goal is to avoid FN. **Example:** find all people with certain disease."
   ]
  },
  {
   "cell_type": "markdown",
   "metadata": {},
   "source": [
    "There is a trade-off between optimizing Recall and Precision. It's very easy to perform good one but not the other. Thus the introdcution of the _f-score_: $$\\displaystyle F = 2\\cdot\\frac{\\textrm{precision}\\cdot \\textrm{recall}}{\\textrm{precision}+ \\textrm{recall}} $$ which is the harmonic mean of precision and recall. "
   ]
  },
  {
   "cell_type": "markdown",
   "metadata": {},
   "source": [
    "There is a variant called _f1-score_."
   ]
  },
  {
   "cell_type": "code",
   "execution_count": 173,
   "metadata": {
    "collapsed": false
   },
   "outputs": [
    {
     "name": "stdout",
     "output_type": "stream",
     "text": [
      "f1 score  most frequent: 0.00 \n",
      "f1 score dummy: 0.10\n",
      "f1 score tree: 0.55\n",
      "f1 score logistic regression: 0.89\n"
     ]
    },
    {
     "name": "stderr",
     "output_type": "stream",
     "text": [
      "/Users/giancarlokerg/anaconda/lib/python3.5/site-packages/sklearn/metrics/classification.py:1074: UndefinedMetricWarning: F-score is ill-defined and being set to 0.0 due to no predicted samples.\n",
      "  'precision', 'predicted', average, warn_for)\n"
     ]
    }
   ],
   "source": [
    "print(\"f1 score  most frequent: %.2f \" %f1_score(y_test,pred_most_frequent))\n",
    "print(\"f1 score dummy: %.2f\" %f1_score(y_test,pred_dummy))\n",
    "print(\"f1 score tree: %.2f\" %f1_score(y_test,pred_tree))\n",
    "print(\"f1 score logistic regression: %.2f\" %f1_score(y_test,pred_logreg))"
   ]
  },
  {
   "cell_type": "markdown",
   "metadata": {},
   "source": [
    "It shows much more leverage in between the classifiers, but on the flipside is harder to interpret and explain. "
   ]
  },
  {
   "cell_type": "code",
   "execution_count": 174,
   "metadata": {
    "collapsed": false
   },
   "outputs": [
    {
     "name": "stdout",
     "output_type": "stream",
     "text": [
      "             precision    recall  f1-score   support\n",
      "\n",
      "   not nine       0.90      1.00      0.94       403\n",
      "       nine       0.00      0.00      0.00        47\n",
      "\n",
      "avg / total       0.80      0.90      0.85       450\n",
      "\n"
     ]
    },
    {
     "name": "stderr",
     "output_type": "stream",
     "text": [
      "/Users/giancarlokerg/anaconda/lib/python3.5/site-packages/sklearn/metrics/classification.py:1074: UndefinedMetricWarning: Precision and F-score are ill-defined and being set to 0.0 in labels with no predicted samples.\n",
      "  'precision', 'predicted', average, warn_for)\n"
     ]
    }
   ],
   "source": [
    "from sklearn.metrics import classification_report\n",
    "print(classification_report(y_test, pred_most_frequent, target_names=[\"not nine\", \"nine\"]))"
   ]
  },
  {
   "cell_type": "code",
   "execution_count": 175,
   "metadata": {
    "collapsed": false
   },
   "outputs": [
    {
     "name": "stdout",
     "output_type": "stream",
     "text": [
      "             precision    recall  f1-score   support\n",
      "\n",
      "   not nine       0.89      0.88      0.89       403\n",
      "       nine       0.10      0.11      0.10        47\n",
      "\n",
      "avg / total       0.81      0.80      0.81       450\n",
      "\n"
     ]
    }
   ],
   "source": [
    "print(classification_report(y_test, pred_dummy, target_names=[\"not nine\", \"nine\"]))"
   ]
  },
  {
   "cell_type": "code",
   "execution_count": 176,
   "metadata": {
    "collapsed": false
   },
   "outputs": [
    {
     "name": "stdout",
     "output_type": "stream",
     "text": [
      "             precision    recall  f1-score   support\n",
      "\n",
      "   not nine       0.98      1.00      0.99       403\n",
      "       nine       0.95      0.83      0.89        47\n",
      "\n",
      "avg / total       0.98      0.98      0.98       450\n",
      "\n"
     ]
    }
   ],
   "source": [
    "print(classification_report(y_test, pred_logreg, target_names=[\"not nine\", \"nine\"]))"
   ]
  },
  {
   "cell_type": "markdown",
   "metadata": {},
   "source": [
    "Picking which class is declared the positive class has a big impact on the metrics"
   ]
  },
  {
   "cell_type": "markdown",
   "metadata": {},
   "source": [
    "## Taking uncertainty into account"
   ]
  },
  {
   "cell_type": "code",
   "execution_count": 180,
   "metadata": {
    "collapsed": false
   },
   "outputs": [
    {
     "name": "stdout",
     "output_type": "stream",
     "text": [
      "             precision    recall  f1-score   support\n",
      "\n",
      "          0       0.98      0.88      0.92        56\n",
      "          1       0.86      0.98      0.91        44\n",
      "\n",
      "avg / total       0.93      0.92      0.92       100\n",
      "\n"
     ]
    }
   ],
   "source": [
    "X, y = make_blobs(n_samples=400, centers=2, cluster_std=[7.0,2], random_state=22)\n",
    "X_train, X_test, y_train, y_test = train_test_split(X,y,random_state=0)\n",
    "svc=SVC(gamma=.05).fit(X_train,y_train)\n",
    "print(classification_report(y_test,svc.predict(X_test)))"
   ]
  },
  {
   "cell_type": "code",
   "execution_count": 182,
   "metadata": {
    "collapsed": true
   },
   "outputs": [],
   "source": [
    "y_pred_lower_treshold = svc.decision_function(X_test) > -.8\n",
    "# lowers the treshold, so more points are being classified as 1. producing higher recall for class 1. "
   ]
  },
  {
   "cell_type": "code",
   "execution_count": 183,
   "metadata": {
    "collapsed": false
   },
   "outputs": [
    {
     "name": "stdout",
     "output_type": "stream",
     "text": [
      "             precision    recall  f1-score   support\n",
      "\n",
      "          0       1.00      0.82      0.90        56\n",
      "          1       0.81      1.00      0.90        44\n",
      "\n",
      "avg / total       0.92      0.90      0.90       100\n",
      "\n"
     ]
    }
   ],
   "source": [
    "print(classification_report(y_test,y_pred_lower_treshold))"
   ]
  },
  {
   "cell_type": "markdown",
   "metadata": {},
   "source": [
    "another tool to play with this is the method `.predict_proba()`. Say you set this treshold to 0.68 then the model has to be 68% \"sure\" that the point is of positive class, to be classified as such."
   ]
  },
  {
   "cell_type": "markdown",
   "metadata": {},
   "source": [
    "## Precision-Recall curves and ROC curves"
   ]
  },
  {
   "cell_type": "markdown",
   "metadata": {},
   "source": [
    "`from sklearn.metrics import precision_recall_curve\n",
    "precision, recall, tresholds = precision_recall_curve(y_test, svc.decision_function(X_test))`"
   ]
  },
  {
   "cell_type": "code",
   "execution_count": 196,
   "metadata": {
    "collapsed": false
   },
   "outputs": [
    {
     "data": {
      "text/plain": [
       "<matplotlib.legend.Legend at 0x11c592a58>"
      ]
     },
     "execution_count": 196,
     "metadata": {},
     "output_type": "execute_result"
    },
    {
     "data": {
      "image/png": "[encoded data removed]",
      "text/plain": [
       "<matplotlib.figure.Figure at 0x11b7af5f8>"
      ]
     },
     "metadata": {},
     "output_type": "display_data"
    }
   ],
   "source": [
    "from sklearn.metrics import precision_recall_curve\n",
    "X,y = make_blobs(n_samples=4000, centers=2, cluster_std=[7.0,2], random_state =22)\n",
    "X_train, X_test, y_train, y_test = train_test_split(X,y, random_state=0)\n",
    "svc= SVC(gamma=.05).fit(X_train,y_train)\n",
    "precision, recall, tresholds = precision_recall_curve(y_test, svc.decision_function(X_test))\n",
    "close_zero = np.argmin(np.abs(tresholds)) #finds treshold closest to zero \n",
    "plt.plot(precision[close_zero], recall[close_zero],'x',markersize=8, label = \"treshold zero\", fillstyle=\"none\", c=\"k\", mew =2)\n",
    "plt.plot(precision,recall, label = \"precision recall curve\")\n",
    "plt.xlabel(\"Precision\")\n",
    "plt.ylabel(\"Recall\")\n",
    "plt.title(\"precision_recall_curve\")\n",
    "plt.legend(loc=\"best\")"
   ]
  },
  {
   "cell_type": "code",
   "execution_count": 217,
   "metadata": {
    "collapsed": false
   },
   "outputs": [
    {
     "data": {
      "text/plain": [
       "<matplotlib.legend.Legend at 0x12716e908>"
      ]
     },
     "execution_count": 217,
     "metadata": {},
     "output_type": "execute_result"
    },
    {
     "data": {
      "image/png": "[encoded data removed]",
      "text/plain": [
       "<matplotlib.figure.Figure at 0x126a12c88>"
      ]
     },
     "metadata": {},
     "output_type": "display_data"
    }
   ],
   "source": [
    "rf= RandomForestClassifier(n_estimators=100, random_state=0, max_features=2).fit(X_train,y_train)\n",
    "precision_rf, recall_rf, tresholds_rf = precision_recall_curve(y_test, rf.predict_proba(X_test)[:,1])\n",
    "plt.figure(figsize=(12,10))\n",
    "plt.plot(precision,recall, label = \"svc\")\n",
    "plt.plot(precision[close_zero], recall[close_zero],'o',markersize=8, label = \"treshold zero\", fillstyle=\"none\", c=\"k\", mew =2)\n",
    "\n",
    "\n",
    "close_default_rf = np.argmin(np.abs(tresholds_rf - 0.5)) #finds treshold closest to zero \n",
    "plt.plot(precision[close_default_rf], recall[close_default_rf],'^',markersize=10, label = \"treshold 0.5 rf\", fillstyle=\"none\", c=\"r\", mew =2)\n",
    "plt.plot(precision_rf,recall_rf, label = \"rf\")\n",
    "plt.xlabel(\"Precision\")\n",
    "plt.ylabel(\"Recall\")\n",
    "plt.title(\"precision_recall_comparison\")\n",
    "plt.legend(loc=\"best\")"
   ]
  },
  {
   "cell_type": "markdown",
   "metadata": {},
   "source": [
    "We can see that random forest performs better at the extremes, for very high recall or very high precision requirements "
   ]
  },
  {
   "cell_type": "code",
   "execution_count": 213,
   "metadata": {
    "collapsed": false
   },
   "outputs": [
    {
     "name": "stdout",
     "output_type": "stream",
     "text": [
      "F1 score for SVC: 0.92\n",
      "F1 score for random forest: 0.92\n"
     ]
    }
   ],
   "source": [
    "print(\"F1 score for SVC: %.2f\" %f1_score(y_test, svc.predict(X_test)))\n",
    "print(\"F1 score for random forest: %.2f\" %f1_score(y_test, rf.predict(X_test)))"
   ]
  },
  {
   "cell_type": "code",
   "execution_count": 218,
   "metadata": {
    "collapsed": false
   },
   "outputs": [
    {
     "name": "stdout",
     "output_type": "stream",
     "text": [
      "average precision of random forest: 0.933\n",
      "average precision of svc: 0.914\n"
     ]
    }
   ],
   "source": [
    "from sklearn.metrics import average_precision_score\n",
    "ap_rf = average_precision_score(y_test, rf.predict_proba(X_test)[:,1])\n",
    "ap_svc = average_precision_score(y_test, svc.decision_function(X_test))\n",
    "print(\"average precision of random forest: %.3f\" % ap_rf)\n",
    "print(\"average precision of svc: %.3f\" %ap_svc)\n",
    "# which predictors have the `.predict_proba()` and which the `.decision_function()`method and why?"
   ]
  },
  {
   "cell_type": "markdown",
   "metadata": {},
   "source": [
    "## Receiver Operating Characteristics (ROC) and AUC"
   ]
  },
  {
   "cell_type": "markdown",
   "metadata": {},
   "source": [
    "Instead of drawing recall against precision, we can also draw **TPR** (true positive rate) against **FPR** (false positive rate), this curve is calles the **_receiver operating curve_**."
   ]
  },
  {
   "cell_type": "markdown",
   "metadata": {},
   "source": [
    "$ \\displaystyle FPR = \\frac{FP}{FP+TN}$ and $TPR = \\textrm{recall} = \\displaystyle\\frac{TP}{TP+FN}$"
   ]
  },
  {
   "cell_type": "code",
   "execution_count": 226,
   "metadata": {
    "collapsed": false
   },
   "outputs": [
    {
     "data": {
      "text/plain": [
       "<matplotlib.legend.Legend at 0x127f7fac8>"
      ]
     },
     "execution_count": 226,
     "metadata": {},
     "output_type": "execute_result"
    },
    {
     "data": {
      "image/png": "[encoded data removed]",
      "text/plain": [
       "<matplotlib.figure.Figure at 0x127e27a90>"
      ]
     },
     "metadata": {},
     "output_type": "display_data"
    }
   ],
   "source": [
    "from sklearn.metrics import roc_curve\n",
    "fpr, tpr, tresholds = roc_curve(y_test, svc.decision_function(X_test))\n",
    "plt.plot(fpr,tpr, label = \"ROC Curve\")\n",
    "plt.xlabel(\"FPR\")\n",
    "plt.ylabel(\"TPR (recall)\")\n",
    "plt.title(\"roc_curve\")\n",
    "close_zero = np.argmin(np.abs(tresholds))\n",
    "plt.plot(fpr[close_zero], tpr[close_zero], 'x',markersize=10, label=\"treshold zero\", fillstyle =\"none\", c='k', mew=2)\n",
    "plt.legend(loc=4)"
   ]
  },
  {
   "cell_type": "markdown",
   "metadata": {},
   "source": [
    "As with the precision-recall curve, we often want to summarize the ROC curve with a single number, the area under the curve _AUC_. AUC is for ROC, what the _f-score_ or _f1-score_ is for the precision-recall curve. "
   ]
  },
  {
   "cell_type": "code",
   "execution_count": 231,
   "metadata": {
    "collapsed": false
   },
   "outputs": [
    {
     "name": "stdout",
     "output_type": "stream",
     "text": [
      "AUC for Random Forest: 0.954\n",
      "AUC for SVC: 0.953\n"
     ]
    }
   ],
   "source": [
    "from sklearn.metrics import roc_auc_score\n",
    "rf_auc = roc_auc_score(y_test, rf.predict_proba(X_test)[:,1]) # why [:,1] ?\n",
    "svc_auc = roc_auc_score(y_test, svc.decision_function(X_test))\n",
    "print(\"AUC for Random Forest: %.3f\" %rf_auc)\n",
    "print(\"AUC for SVC: %.3f\" %svc_auc)"
   ]
  },
  {
   "cell_type": "markdown",
   "metadata": {},
   "source": [
    "Note that predicting randomly produces AUC of 0.5 no matter how imbalanced the dataset is. This makes AUC a much better metric for imbalanced classification problems than accuracy. "
   ]
  },
  {
   "cell_type": "markdown",
   "metadata": {},
   "source": [
    "The AUC can be interpreted as **_evaluating the ranking of positive samples_**"
   ]
  },
  {
   "cell_type": "markdown",
   "metadata": {},
   "source": [
    "AUC = probability that a randomly picked point of positive class will have higher score (according to the classifier) than a randomly picked point from the negative class. "
   ]
  },
  {
   "cell_type": "markdown",
   "metadata": {},
   "source": [
    "Let us now go back to problem with the digits dataset"
   ]
  },
  {
   "cell_type": "code",
   "execution_count": 238,
   "metadata": {
    "collapsed": false
   },
   "outputs": [
    {
     "name": "stdout",
     "output_type": "stream",
     "text": [
      "gamma = 1.00 accuracy 0.90 AUC = 0.50\n",
      "gamma = 0.05 accuracy 0.90 AUC = 0.90\n",
      "gamma = 0.01 accuracy 0.90 AUC = 1.00\n"
     ]
    },
    {
     "data": {
      "text/plain": [
       "<matplotlib.legend.Legend at 0x128557358>"
      ]
     },
     "execution_count": 238,
     "metadata": {},
     "output_type": "execute_result"
    },
    {
     "data": {
      "image/png": "[encoded data removed]",
      "text/plain": [
       "<matplotlib.figure.Figure at 0x128555f98>"
      ]
     },
     "metadata": {},
     "output_type": "display_data"
    }
   ],
   "source": [
    "y = digits.target == 9\n",
    "X_train, X_test, y_train, y_test = train_test_split(digits.data, y, random_state = 0)\n",
    "plt.figure(figsize=(10,8))\n",
    "for gamma in [1, 0.05, 0.01]:\n",
    "    svc = SVC(gamma = gamma).fit(X_train,y_train)\n",
    "    accuracy = svc.score(X_test,y_test)\n",
    "    auc = roc_auc_score(y_test, svc.decision_function(X_test))\n",
    "    fpr,tpr,_ = roc_curve(y_test, svc.decision_function(X_test)) #Q: what is this '_'for?\n",
    "    print(\"gamma = %.02f accuracy %.02f AUC = %.02f\" %(gamma,accuracy,auc))\n",
    "    plt.plot(fpr,tpr,label=\"gamma = %.03f\" % gamma)\n",
    "plt.xlabel(\"FPR\")\n",
    "plt.ylabel(\"TPR\")\n",
    "plt.xlim(-0.01,1)\n",
    "plt.ylim(0, 1.02)\n",
    "plt.legend(loc=\"best\")"
   ]
  },
  {
   "cell_type": "markdown",
   "metadata": {},
   "source": [
    "the smaller `gamma` is the better the performance. All positive points are ranked higher than all negative points according to the decision function. With the right treshold, this model can classify the data perfectly (almost cf. top left corner)."
   ]
  },
  {
   "cell_type": "markdown",
   "metadata": {},
   "source": [
    "## Multi-class classification"
   ]
  },
  {
   "cell_type": "markdown",
   "metadata": {},
   "source": [
    "All metrics for multi-class classification are derived from binary classification metrics, but averaged over all classes."
   ]
  },
  {
   "cell_type": "code",
   "execution_count": 240,
   "metadata": {
    "collapsed": false
   },
   "outputs": [
    {
     "name": "stdout",
     "output_type": "stream",
     "text": [
      "accuracy: 0.953\n",
      "confusion matrix:\n",
      "[[37  0  0  0  0  0  0  0  0  0]\n",
      " [ 0 39  0  0  0  0  2  0  2  0]\n",
      " [ 0  0 41  3  0  0  0  0  0  0]\n",
      " [ 0  0  1 43  0  0  0  0  0  1]\n",
      " [ 0  0  0  0 38  0  0  0  0  0]\n",
      " [ 0  1  0  0  0 47  0  0  0  0]\n",
      " [ 0  0  0  0  0  0 52  0  0  0]\n",
      " [ 0  1  0  1  1  0  0 45  0  0]\n",
      " [ 0  3  1  0  0  0  0  0 43  1]\n",
      " [ 0  0  0  1  0  1  0  0  1 44]]\n"
     ]
    }
   ],
   "source": [
    "from sklearn.metrics import accuracy_score\n",
    "X_train, X_test, y_train, y_test = train_test_split(digits.data, digits.target, random_state= 0)\n",
    "lr = LogisticRegression().fit(X_train,y_train)\n",
    "pred = lr.predict(X_test)\n",
    "print(\"accuracy: %.03f\" % accuracy_score(y_test,pred))\n",
    "print(\"confusion matrix:\")\n",
    "print(confusion_matrix(y_test,pred))"
   ]
  },
  {
   "cell_type": "code",
   "execution_count": 256,
   "metadata": {
    "collapsed": false
   },
   "outputs": [
    {
     "data": {
      "image/png": "[encoded data removed]",
      "text/plain": [
       "<matplotlib.figure.Figure at 0x12a7f27f0>"
      ]
     },
     "metadata": {},
     "output_type": "display_data"
    }
   ],
   "source": [
    "blu = sns.light_palette(\"navy\", as_cmap= True)\n",
    "sns.heatmap(confusion_matrix(y_test,pred), xticklabels = digits.target_names, yticklabels = digits.target_names ,cmap= blu, fmt=\"%d\")\n",
    "plt.xlabel(\"Predicted label\")\n",
    "plt.ylabel(\"True label\")\n",
    "plt.title(\"Confusion matrix\")\n",
    "plt.gca().invert_yaxis()"
   ]
  },
  {
   "cell_type": "code",
   "execution_count": 258,
   "metadata": {
    "collapsed": false
   },
   "outputs": [
    {
     "name": "stdout",
     "output_type": "stream",
     "text": [
      "             precision    recall  f1-score   support\n",
      "\n",
      "          0       1.00      1.00      1.00        37\n",
      "          1       0.89      0.91      0.90        43\n",
      "          2       0.95      0.93      0.94        44\n",
      "          3       0.90      0.96      0.92        45\n",
      "          4       0.97      1.00      0.99        38\n",
      "          5       0.98      0.98      0.98        48\n",
      "          6       0.96      1.00      0.98        52\n",
      "          7       1.00      0.94      0.97        48\n",
      "          8       0.93      0.90      0.91        48\n",
      "          9       0.96      0.94      0.95        47\n",
      "\n",
      "avg / total       0.95      0.95      0.95       450\n",
      "\n"
     ]
    }
   ],
   "source": [
    "print(classification_report(y_test,pred))"
   ]
  },
  {
   "cell_type": "markdown",
   "metadata": {},
   "source": [
    "F-scores can be computed by averaging in various way:\n",
    "* `\"macro\"`: computes the unweighted average of the per-class f-scores. gives equal weight to all classes.\n",
    "* `\"weighted\"`: computes the mean of the per-class f-scores, weighted by their support.\n",
    "* `\"micro\"`: computes total number of false positives, flase negatives and true positives over all classes, and then computes precision, recall and f-score using these counts."
   ]
  },
  {
   "cell_type": "code",
   "execution_count": 259,
   "metadata": {
    "collapsed": false
   },
   "outputs": [
    {
     "name": "stdout",
     "output_type": "stream",
     "text": [
      "micro average f1 score: 0.953\n",
      "macro average f1 score: 0.954\n"
     ]
    }
   ],
   "source": [
    "print(\"micro average f1 score: %.3f\" % f1_score(y_test, pred, average = \"micro\"))\n",
    "print(\"macro average f1 score: %.3f\" % f1_score(y_test, pred, average = \"macro\"))"
   ]
  },
  {
   "cell_type": "markdown",
   "metadata": {},
   "source": [
    "## Regression metrics"
   ]
  },
  {
   "cell_type": "markdown",
   "metadata": {},
   "source": [
    "Generally $R^2$ is doing a pretty good job for evaluating regression models. In some cases one might be interested in using mean squared error or mean aboslute error."
   ]
  },
  {
   "cell_type": "markdown",
   "metadata": {},
   "source": [
    "## Using evaluation metrics in model selection "
   ]
  },
  {
   "cell_type": "code",
   "execution_count": 260,
   "metadata": {
    "collapsed": false
   },
   "outputs": [
    {
     "name": "stdout",
     "output_type": "stream",
     "text": [
      "default scoring [ 0.89983306  0.89983306  0.89983306]\n",
      "explicit accuracy scoring [ 0.89983306  0.89983306  0.89983306]\n",
      "AUC scoring [ 0.99370748  0.98957947  0.99594929]\n"
     ]
    }
   ],
   "source": [
    "print(\"default scoring\" , cross_val_score(SVC(), digits.data, digits.target == 9))\n",
    "\n",
    "explicit_accuracy = cross_val_score(SVC(), digits.data, digits.target == 9 ,scoring = \"accuracy\")\n",
    "print(\"explicit accuracy scoring\", explicit_accuracy)\n",
    "\n",
    "roc_auc = cross_val_score(SVC(), digits.data, digits.target ==9, scoring = \"roc_auc\")\n",
    "print(\"AUC scoring\", roc_auc)"
   ]
  },
  {
   "cell_type": "code",
   "execution_count": 269,
   "metadata": {
    "collapsed": false
   },
   "outputs": [
    {
     "name": "stdout",
     "output_type": "stream",
     "text": [
      "Grid-Search with accuracy\n",
      "Best parameters: {'gamma': 0.0001}\n",
      "Best cross-validation score (accuracy): 0.970\n",
      "Test set AUC: 0.992\n",
      "Test set accuracy: 0.973\n",
      "\n",
      "Grid Search with AUC\n",
      "Best parameters: {'gamma': 0.01}\n",
      "Best cross_validation score (AUC): 0.997\n",
      "Test set AUC: 1.000\n",
      "Test set accuracy: 1.000\n"
     ]
    },
    {
     "name": "stderr",
     "output_type": "stream",
     "text": [
      "/Users/giancarlokerg/anaconda/lib/python3.5/site-packages/sklearn/grid_search.py:418: ChangedBehaviorWarning: The long-standing behavior to use the estimator's score function in GridSearchCV.score has changed. The scoring parameter is now used.\n",
      "  ChangedBehaviorWarning)\n"
     ]
    }
   ],
   "source": [
    "X_train, X_test, y_train, y_test = train_test_split(digits.data, digits.target == 9, random_state = 0)\n",
    "param_grid = {'gamma':[0.0001,0.01,0.1,1,10]}\n",
    "\n",
    "\n",
    "#using default scoring of accuracy\n",
    "grid = GridSearchCV(SVC(), param_grid=param_grid)\n",
    "grid.fit(X_train, y_train)\n",
    "print(\"Grid-Search with accuracy\")\n",
    "print(\"Best parameters:\", grid.best_params_ )\n",
    "print(\"Best cross-validation score (accuracy): %.3f\" %grid.best_score_)\n",
    "print(\"Test set AUC: %.3f\" %roc_auc_score(y_test,grid.decision_function(X_test)))\n",
    "print(\"Test set accuracy: %.3f\" % grid.score(X_test,y_test))\n",
    "\n",
    "#using AUC scoring instead \n",
    "grid = GridSearchCV(SVC(), param_grid = param_grid, scoring = \"roc_auc\")\n",
    "grid.fit(X_train, y_train)\n",
    "print(\"\\nGrid Search with AUC\")\n",
    "print(\"Best parameters:\" ,grid.best_params_)\n",
    "print(\"Best cross_validation score (AUC): %.3f\" %grid.best_score_)\n",
    "print(\"Test set AUC: %.3f\" %roc_auc_score(y_test,grid.decision_function(X_test)))\n",
    "print(\"Test set accuracy: %.3f\" % grid.score(X_test,y_test))"
   ]
  },
  {
   "cell_type": "markdown",
   "metadata": {},
   "source": []
  }
 ],
 "metadata": {
  "kernelspec": {
   "display_name": "Python [Root]",
   "language": "python",
   "name": "Python [Root]"
  },
  "language_info": {
   "codemirror_mode": {
    "name": "ipython",
    "version": 3
   },
   "file_extension": ".py",
   "mimetype": "text/x-python",
   "name": "python",
   "nbconvert_exporter": "python",
   "pygments_lexer": "ipython3",
   "version": "3.5.1"
  }
 },
 "nbformat": 4,
 "nbformat_minor": 0
}
