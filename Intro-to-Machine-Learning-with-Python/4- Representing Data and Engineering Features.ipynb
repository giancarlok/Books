{
 "cells": [
  {
   "cell_type": "code",
   "execution_count": 1,
   "metadata": {
    "collapsed": false
   },
   "outputs": [],
   "source": [
    "import pandas as pd\n",
    "import sklearn \n",
    "import scipy\n",
    "import matplotlib\n",
    "import numpy as np\n",
    "import matplotlib.pyplot as plt\n",
    "%matplotlib inline\n",
    "from sklearn.datasets import load_boston \n",
    "from sklearn.cross_validation import train_test_split\n",
    "from sklearn.preprocessing import MinMaxScaler, PolynomialFeatures"
   ]
  },
  {
   "cell_type": "code",
   "execution_count": 2,
   "metadata": {
    "collapsed": false
   },
   "outputs": [],
   "source": [
    "boston=load_boston()"
   ]
  },
  {
   "cell_type": "code",
   "execution_count": 3,
   "metadata": {
    "collapsed": true
   },
   "outputs": [],
   "source": [
    "X_train, X_test, y_train, y_test = train_test_split(boston.data, boston.target, random_state=0)"
   ]
  },
  {
   "cell_type": "code",
   "execution_count": 4,
   "metadata": {
    "collapsed": true
   },
   "outputs": [],
   "source": [
    "scaler = MinMaxScaler() \n",
    "X_train_scaled = scaler.fit_transform(X_train) # why fit_transform ??\n",
    "X_test_scaled = scaler.transform(X_test)"
   ]
  },
  {
   "cell_type": "code",
   "execution_count": 5,
   "metadata": {
    "collapsed": false
   },
   "outputs": [],
   "source": [
    "poly = PolynomialFeatures(degree=2).fit(X_train_scaled)\n",
    "X_train_poly = poly.transform(X_train_scaled)\n",
    "X_test_poly = poly.transform(X_test_scaled)"
   ]
  },
  {
   "cell_type": "code",
   "execution_count": 6,
   "metadata": {
    "collapsed": false
   },
   "outputs": [
    {
     "name": "stdout",
     "output_type": "stream",
     "text": [
      "(379, 13)\n",
      "(379, 105)\n"
     ]
    }
   ],
   "source": [
    "print(X_train.shape)\n",
    "print(X_train_poly.shape) # keep in mind 13*6 mixed terms, 13 squares, 13 degree 1 terms, 1 bias term = 105"
   ]
  },
  {
   "cell_type": "code",
   "execution_count": 7,
   "metadata": {
    "collapsed": false
   },
   "outputs": [
    {
     "name": "stdout",
     "output_type": "stream",
     "text": [
      "score without scaling: 0.627\n",
      "score with scaling but without interactions: 0.621\n",
      "score with scaling and with polynomial interactions: 0.753\n"
     ]
    }
   ],
   "source": [
    "from sklearn.linear_model import Ridge \n",
    "ridge = Ridge().fit(X_train, y_train)\n",
    "print(\"score without scaling: %.3f\" %ridge.score(X_test,y_test))\n",
    "ridge_scaled = Ridge().fit(X_train_scaled, y_train)\n",
    "print(\"score with scaling but without interactions: %.3f\" % ridge_scaled.score(X_test_scaled,y_test))\n",
    "ridge_poly = Ridge().fit(X_train_poly, y_train)\n",
    "print(\"score with scaling and with polynomial interactions: %.3f\" %ridge_poly.score(X_test_poly,y_test) )"
   ]
  },
  {
   "cell_type": "code",
   "execution_count": 8,
   "metadata": {
    "collapsed": false
   },
   "outputs": [
    {
     "name": "stdout",
     "output_type": "stream",
     "text": [
      "score without scaling: 0.794\n",
      "score with scaling but without interactions: 0.804\n",
      "score with scaling but with interactions: 0.772\n"
     ]
    }
   ],
   "source": [
    "# lets see what happens if we have a more complex model\n",
    "from sklearn.ensemble import RandomForestRegressor\n",
    "rf = RandomForestRegressor(n_estimators = 100).fit(X_train, y_train)\n",
    "print(\"score without scaling: %.3f\" %rf.score(X_test,y_test))\n",
    "rf_scaled = RandomForestRegressor(n_estimators = 100).fit(X_train_scaled, y_train)\n",
    "print(\"score with scaling but without interactions: %.3f\" %rf_scaled.score(X_test_scaled,y_test))\n",
    "rf_poly = RandomForestRegressor(n_estimators = 100).fit(X_train_poly, y_train)\n",
    "print(\"score with scaling but with interactions: %.3f\" %rf_poly.score(X_test_poly,y_test))"
   ]
  },
  {
   "cell_type": "code",
   "execution_count": 9,
   "metadata": {
    "collapsed": true
   },
   "outputs": [],
   "source": [
    "# Univariate non-linear transformations\n",
    "rnd = np.random.RandomState(0)\n",
    "X_org = rnd.normal(size=(1000,3))\n",
    "w=rnd.normal(size=3)\n",
    "X=np.random.poisson(10*np.exp(X_org)) # What exactly is this guy doing?\n",
    "y=np.dot(X_org,w)"
   ]
  },
  {
   "cell_type": "code",
   "execution_count": 10,
   "metadata": {
    "collapsed": false
   },
   "outputs": [
    {
     "data": {
      "text/plain": [
       "array([14, 45, 66, 52, 42, 52, 47, 61, 59, 46, 39, 41, 34, 30, 20, 21, 16,\n",
       "       21, 23, 15, 11, 16, 13, 15, 12, 15,  9, 10,  6, 14, 11,  8,  5,  6,\n",
       "        5,  4,  4,  5,  5,  2,  0,  4,  3,  5,  4,  7,  1,  2,  1,  0,  1,\n",
       "        2,  3,  2,  3,  4,  0,  3,  0,  0,  0,  0,  1,  3,  2,  2,  2,  1,\n",
       "        1,  1,  2,  0,  1,  0,  0,  0,  0,  1,  1,  0,  1,  0,  0,  1,  1,\n",
       "        2,  0,  0,  1,  0,  2,  1,  0,  0,  0,  0,  0,  0,  0,  1,  0,  1,\n",
       "        0,  2,  0,  1,  0,  0,  1,  0,  1,  0,  0,  0,  0,  0,  0,  0,  0,\n",
       "        0,  0,  0,  0,  0,  0,  0,  0,  0,  0,  0,  0,  0,  0,  0,  0,  0,\n",
       "        0,  0,  0,  0,  0,  1])"
      ]
     },
     "execution_count": 10,
     "metadata": {},
     "output_type": "execute_result"
    }
   ],
   "source": [
    "np.bincount(X[:,0]) # bincount takes an array of non-negative integers and counts the occurence of each "
   ]
  },
  {
   "cell_type": "code",
   "execution_count": 17,
   "metadata": {
    "collapsed": false
   },
   "outputs": [
    {
     "data": {
      "text/plain": [
       "<matplotlib.figure.Figure at 0x11b1763c8>"
      ]
     },
     "execution_count": 17,
     "metadata": {},
     "output_type": "execute_result"
    },
    {
     "data": {
      "image/png": "[encoded data removed]",
      "text/plain": [
       "<matplotlib.figure.Figure at 0x11af42ac8>"
      ]
     },
     "metadata": {},
     "output_type": "display_data"
    },
    {
     "data": {
      "text/plain": [
       "<matplotlib.figure.Figure at 0x11b1763c8>"
      ]
     },
     "metadata": {},
     "output_type": "display_data"
    }
   ],
   "source": [
    "bins = np.bincount(X[:,0]) # Related to above question what is X[:,0] doing as opposed X[:,1] or X[:,2] ?\n",
    "plt.bar(range(len(bins)), bins, color ='y')\n",
    "plt.ylabel(\"Number of occurences\")\n",
    "plt.xlabel(\"Value\")\n",
    "plt.figure(figsize=(20,5), dpi=900) # How do I make this plot bigger?"
   ]
  },
  {
   "cell_type": "code",
   "execution_count": 12,
   "metadata": {
    "collapsed": false
   },
   "outputs": [
    {
     "name": "stdout",
     "output_type": "stream",
     "text": [
      "test score: 0.621\n"
     ]
    }
   ],
   "source": [
    "from sklearn.linear_model import Ridge \n",
    "X_train, X_test, y_train, y_test = train_test_split(X,y, random_state = 0)\n",
    "score = Ridge().fit(X_train,y_train).score(X_test,y_test)\n",
    "print(\"test score: %.3f\" %score )"
   ]
  },
  {
   "cell_type": "code",
   "execution_count": 13,
   "metadata": {
    "collapsed": true
   },
   "outputs": [],
   "source": [
    "X_train_log = np.log(X_train+1) # we +1 as we have a bunch of zeros and log is not defined at 0\n",
    "X_test_log = np.log(X_test +1)\n",
    "# what log does here is: 1) disrtibution less asymmetrial 2) reduces large outliers "
   ]
  },
  {
   "cell_type": "code",
   "execution_count": 15,
   "metadata": {
    "collapsed": false
   },
   "outputs": [
    {
     "data": {
      "text/plain": [
       "<matplotlib.text.Text at 0x11b595668>"
      ]
     },
     "execution_count": 15,
     "metadata": {},
     "output_type": "execute_result"
    },
    {
     "data": {
      "image/png": "[encoded data removed]",
      "text/plain": [
       "<matplotlib.figure.Figure at 0x11b59e978>"
      ]
     },
     "metadata": {},
     "output_type": "display_data"
    }
   ],
   "source": [
    "plt.hist(np.log(X_train_log[:,0]+1), bins = 25, color = 'red') # why log of log ? what does this do?\n",
    "plt.ylabel(\"Number of apparences\")\n",
    "plt.xlabel(\"Value\")"
   ]
  },
  {
   "cell_type": "code",
   "execution_count": 19,
   "metadata": {
    "collapsed": false
   },
   "outputs": [
    {
     "name": "stdout",
     "output_type": "stream",
     "text": [
      "test score: 0.850\n"
     ]
    }
   ],
   "source": [
    "score = Ridge().fit(X_train_log, y_train).score(X_test_log, y_test)\n",
    "print(\"test score: %.3f\" %score)"
   ]
  },
  {
   "cell_type": "code",
   "execution_count": 39,
   "metadata": {
    "collapsed": false
   },
   "outputs": [
    {
     "name": "stdout",
     "output_type": "stream",
     "text": [
      "(284, 80)\n",
      "(284, 8)\n"
     ]
    }
   ],
   "source": [
    "# Univariate statistics\n",
    "from sklearn.datasets import load_breast_cancer\n",
    "from sklearn.feature_selection import SelectPercentile \n",
    "from sklearn.cross_validation import train_test_split\n",
    "\n",
    "cancer = load_breast_cancer()\n",
    "\n",
    "rng = np.random.RandomState(42) # 42 as random state? what does this do? \n",
    "noise = rng.normal(size=(len(cancer.data),50))\n",
    "X_w_noise = np.hstack([cancer.data, noise])\n",
    "\n",
    "X_train,X_test,y_train,y_test = train_test_split(X_w_noise, cancer.target, random_state=0, test_size=.5) # what is the role of random state\n",
    "select = SelectPercentile(percentile = 10) # what is percentile?\n",
    "select.fit(X_train, y_train) #why first fit and then transform ?\n",
    "\n",
    "X_train_selected = select.transform(X_train)\n",
    "\n",
    "print(X_train.shape)\n",
    "print(X_train_selected.shape)"
   ]
  },
  {
   "cell_type": "code",
   "execution_count": 40,
   "metadata": {
    "collapsed": false
   },
   "outputs": [
    {
     "name": "stdout",
     "output_type": "stream",
     "text": [
      "[ True False  True False False False  True  True False False False False\n",
      " False False False False False False False False  True False  True  True\n",
      " False False False  True False False False False False False False False\n",
      " False False False False False False False False False False False False\n",
      " False False False False False False False False False False False False\n",
      " False False False False False False False False False False False False\n",
      " False False False False False False False False]\n"
     ]
    },
    {
     "data": {
      "text/plain": [
       "<matplotlib.text.Text at 0x11b756da0>"
      ]
     },
     "execution_count": 40,
     "metadata": {},
     "output_type": "execute_result"
    },
    {
     "data": {
      "image/png": "[encoded data removed]",
      "text/plain": [
       "<matplotlib.figure.Figure at 0x1431dfb38>"
      ]
     },
     "metadata": {},
     "output_type": "display_data"
    }
   ],
   "source": [
    "mask = select.get_support() # returns boolean sequence\n",
    "print(mask)\n",
    "plt.matshow(mask.reshape(1,-1), cmap = plt.cm.gray) #why reshape ? what is cmap ? what is matshow?\n",
    "plt.xlabel(\"Sample index\")"
   ]
  },
  {
   "cell_type": "code",
   "execution_count": 41,
   "metadata": {
    "collapsed": false
   },
   "outputs": [
    {
     "name": "stdout",
     "output_type": "stream",
     "text": [
      "Score with all features: 0.930\n",
      "Score with only selected features: 0.947\n"
     ]
    }
   ],
   "source": [
    "from sklearn.linear_model import LogisticRegression\n",
    "X_test_selected = select.transform(X_test)\n",
    "\n",
    "lr = LogisticRegression()\n",
    "lr.fit(X_train,y_train)\n",
    "print(\"Score with all features: %.3f\" %lr.score(X_test, y_test))\n",
    "lr.fit(X_train_selected,y_train)\n",
    "print(\"Score with only selected features: %.3f\" %lr.score(X_test_selected, y_test))"
   ]
  },
  {
   "cell_type": "code",
   "execution_count": null,
   "metadata": {
    "collapsed": true
   },
   "outputs": [],
   "source": [
    "# exercise: plot accuracy in terms of percentile, you have to define a function "
   ]
  },
  {
   "cell_type": "code",
   "execution_count": 53,
   "metadata": {
    "collapsed": false
   },
   "outputs": [
    {
     "name": "stdout",
     "output_type": "stream",
     "text": [
      "(284, 80)\n",
      "(284, 17)\n"
     ]
    }
   ],
   "source": [
    "# Model-based Feature Selection\n",
    "from sklearn.feature_selection import SelectFromModel\n",
    "from sklearn.ensemble import RandomForestClassifier\n",
    "select = SelectFromModel(RandomForestClassifier(n_estimators = 100, random_state =42))\n",
    "select.fit(X_train,y_train)\n",
    "X_train_l1 = select.transform(X_train)\n",
    "print(X_train.shape)\n",
    "print(X_train_l1.shape)"
   ]
  },
  {
   "cell_type": "code",
   "execution_count": 55,
   "metadata": {
    "collapsed": false
   },
   "outputs": [
    {
     "name": "stdout",
     "output_type": "stream",
     "text": [
      "test score: 0.958\n"
     ]
    },
    {
     "data": {
      "image/png": "[encoded data removed]",
      "text/plain": [
       "<matplotlib.figure.Figure at 0x156db0390>"
      ]
     },
     "metadata": {},
     "output_type": "display_data"
    }
   ],
   "source": [
    "# if you want to have a look at what features are selected\n",
    "mask = select.get_support()\n",
    "plt.matshow(mask.reshape(1,-1), cmap='gray_r')\n",
    "plt.xlabel(\"Sample index\")\n",
    "X_test_l1 = select.transform(X_test)\n",
    "score = LogisticRegression().fit(X_train_l1,y_train).score(X_test_l1,y_test)\n",
    "print(\"test score: %.3f\" %score)"
   ]
  },
  {
   "cell_type": "code",
   "execution_count": 56,
   "metadata": {
    "collapsed": true
   },
   "outputs": [],
   "source": [
    "# SelectFromModel has an argument trehsold, draw a plot that gives accuracy in terms of treshold, find optimal treshod.\n"
   ]
  },
  {
   "cell_type": "code",
   "execution_count": 57,
   "metadata": {
    "collapsed": false
   },
   "outputs": [
    {
     "name": "stdout",
     "output_type": "stream",
     "text": [
      "test score: 0.951\n"
     ]
    },
    {
     "data": {
      "image/png": "[encoded data removed]",
      "text/plain": [
       "<matplotlib.figure.Figure at 0x11b571e80>"
      ]
     },
     "metadata": {},
     "output_type": "display_data"
    }
   ],
   "source": [
    "# Iterative feature selection, principle- a series of models is built: \n",
    "# Starting with no features (or all features), adding features one by one, until some stopping criteria.\n",
    "# more computationally expensive than previous models\n",
    "# example RFE (recursive feature elimination): starts with features, builds model, discard least important ones, and reiterates\n",
    "\n",
    "from sklearn.feature_selection import RFE\n",
    "select = RFE(RandomForestClassifier(n_estimators=100, random_state=42),n_features_to_select = 40)\n",
    "# select = RFE(LogisticRegression(penality=\"l1\"), n_features_to_select = 40)\n",
    "\n",
    "select.fit(X_train,y_train)\n",
    "mask=select.get_support()\n",
    "plt.matshow(mask.reshape(-1,1), cmap='gray_r')\n",
    "plt.xlabel(\"Sample index\")\n",
    "# plots the selected features\n",
    "# takes significantly longer than previous methods\n",
    "X_train_rfe = select.transform(X_train)\n",
    "X_test_rfe = select.transform(X_test)\n",
    "score = LogisticRegression().fit(X_train_rfe,y_train).score(X_test_rfe,y_test)\n",
    "print(\"test score: %.3f\" %score )"
   ]
  },
  {
   "cell_type": "code",
   "execution_count": 58,
   "metadata": {
    "collapsed": true
   },
   "outputs": [],
   "source": [
    "# Exercise: plot accuracy in terms of n_features_to_select"
   ]
  },
  {
   "cell_type": "code",
   "execution_count": 59,
   "metadata": {
    "collapsed": false
   },
   "outputs": [
    {
     "name": "stdout",
     "output_type": "stream",
     "text": [
      "test score: 0.951\n"
     ]
    }
   ],
   "source": [
    "print(\"test score: %.3f\" %select.score(X_test,y_test))"
   ]
  },
  {
   "cell_type": "code",
   "execution_count": 60,
   "metadata": {
    "collapsed": true
   },
   "outputs": [],
   "source": [
    "# Utilizing expert knowledge \n",
    "# to load data do: git clone git@github.com:amueller/introduction_to_ml_with_python.git\n",
    "# this will require SSH key,which you have to update, see: https://github.com/settings/keys\n",
    "# the next issue will be that the book uses an released version of scikitlearn: https://github.com/amueller/introduction_to_ml_with_python/issues/1#issuecomment-223384207"
   ]
  },
  {
   "cell_type": "code",
   "execution_count": null,
   "metadata": {
    "collapsed": true
   },
   "outputs": [],
   "source": []
  }
 ],
 "metadata": {
  "anaconda-cloud": {},
  "kernelspec": {
   "display_name": "Python [Root]",
   "language": "python",
   "name": "Python [Root]"
  },
  "language_info": {
   "codemirror_mode": {
    "name": "ipython",
    "version": 3
   },
   "file_extension": ".py",
   "mimetype": "text/x-python",
   "name": "python",
   "nbconvert_exporter": "python",
   "pygments_lexer": "ipython3",
   "version": "3.5.1"
  }
 },
 "nbformat": 4,
 "nbformat_minor": 0
}
